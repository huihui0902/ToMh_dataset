{
 "cells": [
  {
   "cell_type": "code",
   "execution_count": 3,
   "metadata": {},
   "outputs": [],
   "source": [
    "import os\n",
    "import sys\n",
    "import itertools\n",
    "\n",
    "input_folder = 'API_responses'\n",
    "output_folder = 'extrated_response'\n",
    "lengths = [1, 2, 3]\n",
    "orders = [0, 1, 2, 3, 4]\n",
    "prompts = ['CoT', 'MC']\n",
    "tells = ['No_Tell', 'Tell']\n",
    "for tell, prompt, length, order, sample_num in itertools.product(tells, prompts, lengths, orders, range(1, 21)):\n",
    "    input_fn = os.path.join(input_folder, tell, prompt, f'length_{length}', f'sample_{sample_num}',\n",
    "                            f'order_{order}.txt')\n",
    "    output_fn = os.path.join(output_folder, tell, prompt, f'length_{length}', f'sample_{sample_num}',\n",
    "                                f'order_{order}.txt')\n",
    "    with open(input_fn, 'r') as file:\n",
    "        lines = file.readlines()\n",
    "        answer_line = lines[0]\n",
    "        answers = answer_line.split()\n",
    "        if 'Answer:' in answers:\n",
    "            answers.remove('Answer:')\n",
    "        extracted = ' '.join(answers)\n",
    "    if not os.path.exists(os.path.join(output_folder, tell, prompt, f'length_{length}', f'sample_{sample_num}')):\n",
    "        os.makedirs(os.path.join(output_folder, tell, prompt,\n",
    "                    f'length_{length}', f'sample_{sample_num}'))\n",
    "    with open(output_fn, 'w') as file:\n",
    "        file.writelines(extracted)"
   ]
  },
  {
   "cell_type": "code",
   "execution_count": 18,
   "metadata": {},
   "outputs": [
    {
     "name": "stdout",
     "output_type": "stream",
     "text": [
      "['CONTENE_FILRER.']\n",
      "['CONTENE_FILRER.']\n",
      "['CONTENE_FILRER.']\n",
      "['CONTENE_FILRER.']\n",
      "['CONTENE_FILRER.']\n",
      "['CONTENE_FILRER.']\n",
      "['CONTENE_FILRER.']\n",
      "['CONTENE_FILRER.']\n",
      "['CONTENE_FILRER.']\n",
      "['CONTENE_FILRER.']\n",
      "['CONTENE_FILRER.']\n",
      "['CONTENE_FILRER.']\n",
      "['CONTENE_FILRER.']\n",
      "['CONTENE_FILRER.']\n",
      "['CONTENE_FILRER.']\n",
      "['CONTENE_FILRER.']\n",
      "CoT accuracy:  0.571912013536379\n",
      "MC accuracy:  0.5986509274873525\n"
     ]
    }
   ],
   "source": [
    "import os\n",
    "import sys\n",
    "import itertools\n",
    "\n",
    "input_folder = 'extrated_response'\n",
    "answer_folder = 'data_ToMh_old'\n",
    "output_fn = 'check_GPT-4.txt'\n",
    "lengths = [1, 2, 3]\n",
    "orders = [0, 1, 2, 3, 4]\n",
    "prompts = ['CoT', 'MC']\n",
    "tells = ['No_Tell', 'Tell']\n",
    "CoT_count, CoT_correct = [0, 0]\n",
    "MC_count, MC_correct = [0, 0]\n",
    "\n",
    "output_lines = []\n",
    "for tell, prompt, length, order, sample_num in itertools.product(tells, prompts, lengths, orders, range(1, 21)):\n",
    "    input_fn = os.path.join(input_folder, tell, prompt, f'length_{length}', f'sample_{sample_num}',\n",
    "                            f'order_{order}.txt')\n",
    "    answer_fn = os.path.join(answer_folder, tell, prompt, f'length_{length}', f'sample_{sample_num}',\n",
    "                                f'order_{order}.txt')\n",
    "    output_lines.append(input_fn + '\\n')\n",
    "    with open(input_fn, 'r') as file:\n",
    "        lines = file.readlines()\n",
    "        if len(lines[0].split(' ')) == 2:\n",
    "            answer_line = lines[0].split(' ')[1]\n",
    "            output_lines.append('Answer: ' + answer_line + '\\n')\n",
    "        else:\n",
    "            print(lines)\n",
    "            continue\n",
    "    with open(answer_fn, 'r') as file:\n",
    "        lines = file.readlines()\n",
    "        for line in lines:\n",
    "            if 'Answer:' in line.split(' '):\n",
    "                correct_answer = line.split(' ', 1)[1].split('\\n')[0]\n",
    "                output_lines.append('Correct answer: ' + correct_answer + '\\n')\n",
    "                \n",
    "    if prompt == 'CoT':\n",
    "        CoT_count += 1\n",
    "        if answer_line == correct_answer:\n",
    "            CoT_correct += 1\n",
    "    else: \n",
    "        MC_count += 1\n",
    "        if answer_line == correct_answer:\n",
    "            MC_correct += 1\n",
    "with open(output_fn, 'w') as file:\n",
    "    file.writelines(output_lines)\n",
    "    \n",
    "print('CoT accuracy: ', CoT_correct / CoT_count)\n",
    "print('MC accuracy: ', MC_correct / MC_count)"
   ]
  }
 ],
 "metadata": {
  "kernelspec": {
   "display_name": "Python 3.11.2 64-bit",
   "language": "python",
   "name": "python3"
  },
  "language_info": {
   "codemirror_mode": {
    "name": "ipython",
    "version": 3
   },
   "file_extension": ".py",
   "mimetype": "text/x-python",
   "name": "python",
   "nbconvert_exporter": "python",
   "pygments_lexer": "ipython3",
   "version": "3.11.2"
  },
  "orig_nbformat": 4,
  "vscode": {
   "interpreter": {
    "hash": "b0fa6594d8f4cbf19f97940f81e996739fb7646882a419484c72d19e05852a7e"
   }
  }
 },
 "nbformat": 4,
 "nbformat_minor": 2
}
