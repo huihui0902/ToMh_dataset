{
 "cells": [
  {
   "cell_type": "code",
   "execution_count": 769,
   "metadata": {},
   "outputs": [],
   "source": [
    "# !pip install matplotlib"
   ]
  },
  {
   "cell_type": "code",
   "execution_count": 1,
   "metadata": {},
   "outputs": [
    {
     "name": "stdout",
     "output_type": "stream",
     "text": [
      "Guanaco_responses/Tell/CoT/length_3/sample_3/order_2.txt\n",
      "Guanaco_responses/Tell/CoT/length_3/sample_3/order_4.txt\n",
      "Guanaco_responses/Tell/CoT/length_3/sample_4/order_4.txt\n",
      "Guanaco_responses/Tell/CoT/length_3/sample_10/order_4.txt\n",
      "0.41333333333333333 248 600\n",
      "0.2733333333333333 164 600\n"
     ]
    },
    {
     "data": {
      "image/png": "[encoded data removed]",
      "text/plain": [
       "<Figure size 1000x500 with 2 Axes>"
      ]
     },
     "metadata": {},
     "output_type": "display_data"
    }
   ],
   "source": [
    "import os\n",
    "size = 65\n",
    "# result_folder = \"results_65/prompt_ToMh\"\n",
    "result_folder =\"Guanaco_responses\"\n",
    "# result_folder =\"result_prompt_ToMh_old_v0\"\n",
    "# result_folder = \"results_65\"\n",
    "ans_folder = \"data_ToMh_old\"\n",
    "flag = False\n",
    "\n",
    "cor = 0\n",
    "n = 0\n",
    "unk = 0\n",
    "def acc(t, l, o):\n",
    "    global cor, n, unk\n",
    "    cnt = 0\n",
    "    correct = 0\n",
    "    # Iterate over all files and subdirectories within the root folder\n",
    "    for folder_name, subfolders, filenames in os.walk(result_folder):\n",
    "        for filename in filenames:\n",
    "            if filename.endswith(\".txt\"):\n",
    "                if all([i in folder_name for i in [t, f'length_{l}']]) and f'order_{o}' in filename:\n",
    "                    cnt += 1\n",
    "                    ans_folder_name = folder_name.replace(result_folder, ans_folder)\n",
    "                    with open(os.path.join(ans_folder_name, filename), \"r\") as f:\n",
    "                        output = f.read()\n",
    "                        ans = output[output.find('Answer: '):]\n",
    "                        ans = ans[:ans.find('\\n')]\n",
    "                        ans = ans.split()[-1]\n",
    "                        choice = output[output.find('Choices:'):]\n",
    "                        choice = choice[:choice.find('\\n')]\n",
    "#                         print(choice)\n",
    "#                         break\n",
    "                        ans_choice = choice[choice.find(ans)-3]\n",
    "                        ans = ans.replace('_',' ')\n",
    "\n",
    "                    with open(os.path.join(folder_name, filename), \"r\") as f:\n",
    "                        result = f.read()\n",
    "#                             print(result,'h1')\n",
    "                        if t=='CoT': \n",
    "                            result = result.split('\\n')[-1]\n",
    "                        else:\n",
    "                            result = result[result.find(':')+1:]\n",
    "                        if (len(result)==0 or 'more information' in result):\n",
    "                            print(os.path.join(folder_name, filename))\n",
    "                            unk += 1\n",
    "                        \n",
    "                        result = result.replace('_',' ')\n",
    "                        ans_exist = (result.lower()).find(ans)\n",
    "                        choice_exist = result.find(ans_choice)\n",
    "#                     print(folder_name, filename)\n",
    "#                     print(result)\n",
    "#                     print('')\n",
    "                    if (ans_exist != -1) and  t=='CoT':\n",
    "                        correct +=1\n",
    "                    elif (choice_exist != -1) and  t=='MC':\n",
    "                        correct += 1    \n",
    "\n",
    "#                     if (ans_exist!=-1 or choice_exist!=-1):\n",
    "#                         correct +=1\n",
    "    cor += correct\n",
    "    n += cnt\n",
    "    return correct / (cnt+0.001)\n",
    "    return cnt\n",
    "\n",
    "import numpy as np\n",
    "a = np.zeros((2,3,5))\n",
    "task  = ['CoT','MC']\n",
    "for t in [0,1]:\n",
    "    for i in [1,2,3]:\n",
    "        for j in [0,1,2,3,4]:\n",
    "            a[t][i-1][j]=acc(task[t],i,j)\n",
    "    print(cor /n, cor, n)\n",
    "    cor = n = 0\n",
    "# unk\n",
    "import matplotlib.pyplot as plt\n",
    "from matplotlib.colors import LinearSegmentedColormap\n",
    "# Create two subplots\n",
    "data = a\n",
    "# Create a custom colormap from green (1) to white (0)\n",
    "colors = [(1, 1, 1),(0, 0.4, 0)]\n",
    "cmap = LinearSegmentedColormap.from_list('darkgreen_to_white', colors)\n",
    "\n",
    "# Create two subplots\n",
    "fig, axs = plt.subplots(1, 2, figsize=(10, 5))\n",
    "\n",
    "# Plot the first figure\n",
    "axs[0].imshow(data[0], cmap=cmap, interpolation='nearest', vmin=0, vmax=1)\n",
    "axs[0].set_title('CoT')\n",
    "\n",
    "# Plot the second figure\n",
    "axs[1].imshow(data[1], cmap=cmap, interpolation='nearest', vmin=0, vmax=1)\n",
    "axs[1].set_title('MC')\n",
    "\n",
    "# Show the figures\n",
    "plt.show()"
   ]
  },
  {
   "cell_type": "code",
   "execution_count": 2,
   "metadata": {},
   "outputs": [
    {
     "data": {
      "text/plain": [
       "array([[[0.64998375, 0.54998625, 0.44998875, 0.37499063, 0.4999875 ],\n",
       "        [0.599985  , 0.52498688, 0.47498813, 0.27499313, 0.2999925 ],\n",
       "        [0.47498813, 0.27499313, 0.27499313, 0.22499438, 0.24999375]],\n",
       "\n",
       "       [[0.37499063, 0.199995  , 0.17499563, 0.27499313, 0.34999125],\n",
       "        [0.37499063, 0.22499438, 0.24999375, 0.22499438, 0.22499438],\n",
       "        [0.2999925 , 0.34999125, 0.27499313, 0.24999375, 0.24999375]]])"
      ]
     },
     "execution_count": 2,
     "metadata": {},
     "output_type": "execute_result"
    }
   ],
   "source": [
    "a"
   ]
  },
  {
   "cell_type": "code",
   "execution_count": null,
   "metadata": {},
   "outputs": [],
   "source": []
  }
 ],
 "metadata": {
  "kernelspec": {
   "display_name": "Python 3.10.10 64-bit",
   "language": "python",
   "name": "python3"
  },
  "language_info": {
   "codemirror_mode": {
    "name": "ipython",
    "version": 3
   },
   "file_extension": ".py",
   "mimetype": "text/x-python",
   "name": "python",
   "nbconvert_exporter": "python",
   "pygments_lexer": "ipython3",
   "version": "3.10.10"
  },
  "vscode": {
   "interpreter": {
    "hash": "bd385fe162c5ca0c84973b7dd5c518456272446b2b64e67c2a69f949ca7a1754"
   }
  }
 },
 "nbformat": 4,
 "nbformat_minor": 2
}
