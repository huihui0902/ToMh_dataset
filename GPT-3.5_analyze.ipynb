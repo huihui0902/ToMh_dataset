{
 "cells": [
  {
   "cell_type": "code",
   "execution_count": 442,
   "metadata": {},
   "outputs": [],
   "source": [
    "import os\n",
    "size = 65\n",
    "# result_folder = \"results_65/prompt_ToMh\"\n",
    "# result_folder = 'API_responses'\n",
    "result_folder = 'result_gpt-3.5-turbo-v0'\n",
    "ans_folder = \"data_ToMh_old\"\n",
    "acc = {}\n",
    "\n",
    "def correct(result, choice, ans):\n",
    "    if ans in result.lower() or choice in result:\n",
    "        return 1\n",
    "    return 0\n",
    "\n",
    "# Iterate over all files and subdirectories within the root folder\n",
    "for folder_name, subfolders, filenames in os.walk(result_folder):\n",
    "    for filename in filenames:\n",
    "        if filename.endswith(\".txt\"):\n",
    "                ans_folder_name = folder_name.replace(result_folder, ans_folder)\n",
    "                \n",
    "                with open(os.path.join(ans_folder_name, filename), \"r\") as f:\n",
    "                    output = f.read()\n",
    "                    ans = output[output.find('Answer: '):]\n",
    "                    ans = ans[:ans.find('\\n')]\n",
    "                    ans = ans.split()[-1]\n",
    "                    choice = output[output.find('Choices:'):]\n",
    "                    choice = choice[choice.find(ans)-3]\n",
    "                    ans = ans.replace('_',' ')\n",
    "\n",
    "                with open(os.path.join(folder_name, filename), \"r\") as f:\n",
    "                    result = f.read()\n",
    "                    result = result[-60:]\n",
    "                    result = result.replace('_',' ')\n",
    "                    choice_exist = result.find(choice)\n",
    "                    acc_path  = os.path.join(folder_name, filename).replace(result_folder,'')\n",
    "                    \n",
    "                acc[acc_path] = correct(result, choice, ans)"
   ]
  },
  {
   "cell_type": "code",
   "execution_count": 444,
   "metadata": {},
   "outputs": [],
   "source": [
    "# joint acc\n",
    "for key, value in acc.items():\n",
    "    if value == 0:\n",
    "        index = 2+key.find('r_')\n",
    "        o = int(key[index]) + 1\n",
    "        for i in range(o, 5):\n",
    "            # print('r_'+key[index])\n",
    "            new_k = key.replace('r_'+key[index], 'r_'+str(i))\n",
    "            # print(key, new_k)\n",
    "            acc[new_k] = 0"
   ]
  },
  {
   "cell_type": "code",
   "execution_count": 445,
   "metadata": {},
   "outputs": [
    {
     "data": {
      "image/png": "[encoded data removed]",
      "text/plain": [
       "<Figure size 360x360 with 1 Axes>"
      ]
     },
     "metadata": {
      "needs_background": "light"
     },
     "output_type": "display_data"
    },
    {
     "name": "stdout",
     "output_type": "stream",
     "text": [
      "0.22000000000000006\n"
     ]
    },
    {
     "data": {
      "image/png": "[encoded data removed]",
      "text/plain": [
       "<Figure size 360x360 with 1 Axes>"
      ]
     },
     "metadata": {
      "needs_background": "light"
     },
     "output_type": "display_data"
    },
    {
     "name": "stdout",
     "output_type": "stream",
     "text": [
      "0.25333333333333335\n"
     ]
    },
    {
     "data": {
      "image/png": "[encoded data removed]",
      "text/plain": [
       "<Figure size 360x360 with 1 Axes>"
      ]
     },
     "metadata": {
      "needs_background": "light"
     },
     "output_type": "display_data"
    },
    {
     "name": "stdout",
     "output_type": "stream",
     "text": [
      "0.12666666666666668\n"
     ]
    },
    {
     "data": {
      "image/png": "[encoded data removed]",
      "text/plain": [
       "<Figure size 360x360 with 1 Axes>"
      ]
     },
     "metadata": {
      "needs_background": "light"
     },
     "output_type": "display_data"
    },
    {
     "name": "stdout",
     "output_type": "stream",
     "text": [
      "0.14666666666666667\n"
     ]
    }
   ],
   "source": [
    "import matplotlib.pyplot as plt\n",
    "from matplotlib.colors import LinearSegmentedColormap\n",
    "def plot(data, title):\n",
    "    # Create one subplots\n",
    "    fig, axs = plt.subplots(1, 1, figsize=(5, 5))\n",
    "\n",
    "    # Create a custom colormap from green (1) to white (0)\n",
    "    colors = [(1, 1, 1),(0, 0.4, 0)]\n",
    "    cmap = LinearSegmentedColormap.from_list('darkgreen_to_white', colors)\n",
    "\n",
    "    # Plot the first figure\n",
    "    axs.imshow(data, cmap=cmap, interpolation='nearest', vmin=0, vmax=1)\n",
    "    axs.set_title(title)\n",
    "\n",
    "    # Show the figures\n",
    "    plt.show()\n",
    "\n",
    "def get_acc(check_list):\n",
    "    cnt = 0\n",
    "    cor = 0\n",
    "    for key, value in acc.items():\n",
    "        if all([i in key for i in check_list]):\n",
    "            cnt += 1\n",
    "            cor += value\n",
    "    return round(cor / (cnt+0.01), 1)\n",
    "\n",
    "import numpy as np\n",
    "for i in ['CoT', 'MC']:\n",
    "    for j in ['Tell', 'No_Tell']:\n",
    "        data = np.zeros((3,5))\n",
    "        for k in range(5):\n",
    "            for l in range(3):\n",
    "                # print(data[l][k])\n",
    "                o = 'order_{}'.format(k)\n",
    "                len = 'length_{}'.format(l+1)\n",
    "                data[l][k] = get_acc([i, j, o, len])\n",
    "        plot(data, i+'/'+j)\n",
    "        print(data.mean())"
   ]
  },
  {
   "cell_type": "code",
   "execution_count": null,
   "metadata": {},
   "outputs": [],
   "source": []
  }
 ],
 "metadata": {
  "kernelspec": {
   "display_name": "Python 3.11.2 64-bit",
   "language": "python",
   "name": "python3"
  },
  "language_info": {
   "codemirror_mode": {
    "name": "ipython",
    "version": 3
   },
   "file_extension": ".py",
   "mimetype": "text/x-python",
   "name": "python",
   "nbconvert_exporter": "python",
   "pygments_lexer": "ipython3",
   "version": "3.11.2"
  },
  "orig_nbformat": 4,
  "vscode": {
   "interpreter": {
    "hash": "b0fa6594d8f4cbf19f97940f81e996739fb7646882a419484c72d19e05852a7e"
   }
  }
 },
 "nbformat": 4,
 "nbformat_minor": 2
}
