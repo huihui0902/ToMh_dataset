{
 "cells": [
  {
   "cell_type": "code",
   "execution_count": 1,
   "metadata": {},
   "outputs": [],
   "source": [
    "import os\n",
    "import sys\n",
    "import itertools\n",
    "\n",
    "input_folder = 'data_ToMh'\n",
    "output_folder = 'prompt_ToMh'\n",
    "lengths = [1, 2, 3]\n",
    "orders = [0, 1, 2, 3, 4]\n",
    "prompts = ['CoT', 'MC']\n",
    "tells = ['No_Tell', 'Tell']\n",
    "for tell, prompt, length, order, sample_num in itertools.product(tells, prompts, lengths, orders, range(1, 21)):\n",
    "    input_fn = os.path.join(input_folder, tell, prompt, f'length_{length}', f'sample_{sample_num}',\n",
    "                            f'order_{order}.txt')\n",
    "    output_fn = os.path.join(output_folder, tell, prompt, f'length_{length}', f'sample_{sample_num}',\n",
    "                                f'order_{order}.txt')\n",
    "    with open(input_fn, 'r') as file:\n",
    "        lines = file.readlines()\n",
    "        new_lines = [line for line in lines if line ==\n",
    "                        '\\n' or line.split()[0] != 'Answer:']\n",
    "    if not os.path.exists(os.path.join(output_folder, tell, prompt, f'length_{length}', f'sample_{sample_num}')):\n",
    "        os.makedirs(os.path.join(output_folder, tell, prompt,\n",
    "                    f'length_{length}', f'sample_{sample_num}'))\n",
    "    with open(output_fn, 'w') as file:\n",
    "        file.writelines(new_lines)"
   ]
  }
 ],
 "metadata": {
  "kernelspec": {
   "display_name": "Python 3.11.2 64-bit",
   "language": "python",
   "name": "python3"
  },
  "language_info": {
   "codemirror_mode": {
    "name": "ipython",
    "version": 3
   },
   "file_extension": ".py",
   "mimetype": "text/x-python",
   "name": "python",
   "nbconvert_exporter": "python",
   "pygments_lexer": "ipython3",
   "version": "3.11.2"
  },
  "orig_nbformat": 4,
  "vscode": {
   "interpreter": {
    "hash": "b0fa6594d8f4cbf19f97940f81e996739fb7646882a419484c72d19e05852a7e"
   }
  }
 },
 "nbformat": 4,
 "nbformat_minor": 2
}
